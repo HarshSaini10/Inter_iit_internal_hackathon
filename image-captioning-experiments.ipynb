{
 "cells": [
  {
   "cell_type": "code",
   "execution_count": null,
   "metadata": {},
   "outputs": [],
   "source": [
    "import numpy as np\n",
    "import pandas as pd\n",
    "import matplotlib.pyplot as plt\n",
    "import seaborn as sns\n",
    "import torch\n",
    "import torch.nn as nn\n",
    "import torchvision\n",
    "from torch.utils.data import Dataset, DataLoader\n",
    "from torchvision import models, datasets, transforms\n",
    "from tqdm.notebook import tqdm_notebook as tqdm\n",
    "from PIL import Image\n",
    "import io, os\n",
    "from sklearn.model_selection import train_test_split\n",
    "import albumentations as A\n",
    "from albumentations.pytorch import ToTensorV2\n",
    "from sklearn.metrics import mean_squared_error as mse\n",
    "from sklearn.metrics import r2_score\n",
    "\n",
    "import warnings\n",
    "warnings.filterwarnings(\"ignore\")\n",
    "\n",
    "device = 'cuda' if torch.cuda.is_available else 'cpu'"
   ]
  },
  {
   "cell_type": "code",
   "execution_count": null,
   "metadata": {},
   "outputs": [],
   "source": [
    "from transformers import BlipProcessor, BlipForConditionalGeneration"
   ]
  },
  {
   "cell_type": "code",
   "execution_count": null,
   "metadata": {},
   "outputs": [],
   "source": [
    "train_df = pd.read_csv(\"/kaggle/input/image-vaptioning/simple.csv\", \n",
    "                       encoding='ISO-8859-1')"
   ]
  },
  {
   "cell_type": "code",
   "execution_count": null,
   "metadata": {},
   "outputs": [],
   "source": [
    "train_df.head()"
   ]
  },
  {
   "cell_type": "code",
   "execution_count": null,
   "metadata": {},
   "outputs": [],
   "source": [
    "base_path = \"/kaggle/input/company-images-data\""
   ]
  },
  {
   "cell_type": "code",
   "execution_count": null,
   "metadata": {},
   "outputs": [],
   "source": [
    "companies = os.listdir(base_path)"
   ]
  },
  {
   "cell_type": "code",
   "execution_count": null,
   "metadata": {},
   "outputs": [],
   "source": [
    "np.random.seed(42)\n",
    "val_indices = np.random.choice(np.arange(0,219),20, replace=False)\n",
    "\n",
    "val_indices"
   ]
  },
  {
   "cell_type": "code",
   "execution_count": null,
   "metadata": {},
   "outputs": [],
   "source": [
    "val_companies = [companies[i] for i in val_indices]\n",
    "train_companies = [companies[i] for i in range(219) if i not in val_indices]"
   ]
  },
  {
   "cell_type": "code",
   "execution_count": null,
   "metadata": {},
   "outputs": [],
   "source": [
    "# len(train_companies), len(val_companies)"
   ]
  },
  {
   "cell_type": "code",
   "execution_count": null,
   "metadata": {},
   "outputs": [],
   "source": [
    "train_images = []\n",
    "val_images = []\n",
    "train_indices = []\n",
    "val_indices = []\n",
    "for company in os.listdir(base_path):\n",
    "    company_path = os.path.join(base_path, company)\n",
    "    if company not in val_companies:\n",
    "        for img_path in os.listdir(company_path):\n",
    "            train_images.append(Image.open(os.path.join(company_path, img_path)).convert('RGB'))\n",
    "            train_indices.append(int(img_path.split('.')[0]))\n",
    "            \n",
    "    else:\n",
    "        for img_path in os.listdir(company_path):\n",
    "            val_images.append(Image.open(os.path.join(company_path, img_path)).convert('RGB'))\n",
    "            val_indices.append(int(img_path.split('.')[0]))"
   ]
  },
  {
   "cell_type": "code",
   "execution_count": null,
   "metadata": {},
   "outputs": [],
   "source": [
    "train_transform = A.Compose([\n",
    "    A.Resize(224,224),\n",
    "    ToTensorV2()])\n",
    "train_data = dataset(train_df, train_images, train_indices, train_transform, True)\n",
    "val_data = dataset(train_df, val_images, val_indices, train_transform, True)\n",
    "train_load = DataLoader(train_data, batch_size=32, shuffle=False, num_workers=os.cpu_count())\n",
    "val_load = DataLoader(val_data, batch_size=32, shuffle=False, num_workers=os.cpu_count())"
   ]
  },
  {
   "cell_type": "code",
   "execution_count": null,
   "metadata": {},
   "outputs": [],
   "source": [
    "image = Image.open(\"/kaggle/input/company-images-data/buffalo wild wings/10142.jpg\")\n",
    "plt.imshow(image)"
   ]
  },
  {
   "cell_type": "code",
   "execution_count": null,
   "metadata": {},
   "outputs": [],
   "source": [
    "processor = BlipProcessor.from_pretrained(\"Salesforce/blip-image-captioning-base\")\n",
    "model = BlipForConditionalGeneration.from_pretrained(\"Salesforce/blip-image-captioning-base\")\n",
    "\n",
    "inputs = processor(images=image, return_tensors=\"pt\")\n",
    "\n",
    "output = model.generate(**inputs)\n",
    "caption = processor.decode(output[0], skip_special_tokens=True)\n",
    "print(\"Generated Caption:\", caption)"
   ]
  },
  {
   "cell_type": "code",
   "execution_count": null,
   "metadata": {},
   "outputs": [],
   "source": [
    "cap_list = []\n",
    "model=model.to(device)\n",
    "for batch_images, _ in tqdm(train_load):\n",
    "    inputs = processor(images=list(batch_images), return_tensors=\"pt\", padding=True)\n",
    "    inputs=inputs.to(device)\n",
    "    with torch.no_grad():\n",
    "        outputs = model.generate(**inputs)\n",
    "    outputs=outputs.cpu()\n",
    "    captions = [processor.decode(output, skip_special_tokens=True) for output in outputs]\n",
    "\n",
    "    cap_list.append(captions)\n",
    "#     for img_path, caption in zip(img_paths, captions):\n",
    "#         print(f\"Image: {img_path}, Caption: {caption}\")"
   ]
  },
  {
   "cell_type": "code",
   "execution_count": null,
   "metadata": {},
   "outputs": [],
   "source": [
    "cp=[]\n",
    "for i in cap_list:\n",
    "    for j in i:\n",
    "        cp.append(j)\n",
    "simple=pd.DataFrame()\n",
    "simple['image_captioning']=cp\n",
    "simple.to_csv('/kaggle/working/simple.csv')"
   ]
  },
  {
   "cell_type": "code",
   "execution_count": null,
   "metadata": {},
   "outputs": [],
   "source": [
    "new_val_data = []\n",
    "for i in range(10):\n",
    "    new_val_data.append(val_data[i][0])"
   ]
  },
  {
   "cell_type": "code",
   "execution_count": null,
   "metadata": {},
   "outputs": [],
   "source": [
    "new_val_load = DataLoader(new_val_data, batch_size=1, shuffle=False, num_workers=os.cpu_count())"
   ]
  },
  {
   "cell_type": "code",
   "execution_count": null,
   "metadata": {},
   "outputs": [],
   "source": [
    "# new_val_load"
   ]
  },
  {
   "cell_type": "code",
   "execution_count": null,
   "metadata": {},
   "outputs": [],
   "source": [
    "preds = []\n",
    "with torch.inference_mode():\n",
    "    for img in new_val_load:\n",
    "        img = img.to(torch.float32)\n",
    "        img = img.to(device)\n",
    "        y_pred = model(img)\n",
    "        preds.append(y_pred)"
   ]
  },
  {
   "cell_type": "code",
   "execution_count": null,
   "metadata": {},
   "outputs": [],
   "source": [
    "# preds"
   ]
  },
  {
   "cell_type": "code",
   "execution_count": null,
   "metadata": {},
   "outputs": [],
   "source": [
    "# np.mean(train_df.iloc[train_indices, 2]), np.mean(train_df.iloc[val_indices, 2])"
   ]
  },
  {
   "cell_type": "code",
   "execution_count": null,
   "metadata": {},
   "outputs": [],
   "source": [
    "from transformers import AutoModel, AutoTokenizer\n",
    "# model_name = 'bert-base-uncased'\n",
    "model = AutoModel.from_pretrained(\"vinai/bertweet-base\")\n",
    "# tokenizer = BertTokenizer.from_pretrained(model_name)\n",
    "tokenizer = AutoTokenizer.from_pretrained(\"vinai/bertweet-base\", use_fast=False)\n",
    "# model = BertModel.from_pretrained(model_name)\n",
    "model.eval()\n",
    "simp=[i for i in train_df['image_captioning']]\n",
    "inputs = tokenizer(simp, padding=True, truncation=True, return_tensors='pt')\n"
   ]
  },
  {
   "cell_type": "code",
   "execution_count": null,
   "metadata": {},
   "outputs": [],
   "source": [
    "import gc\n",
    "def process_in_chunks(model, inputs, batch_size=32):\n",
    "    model = model.to(device)\n",
    "    model.eval()  \n",
    "    all_cls_embeddings = []\n",
    "\n",
    "    num_batches = len(inputs['input_ids']) // batch_size + 1\n",
    "    \n",
    "    with torch.no_grad():  \n",
    "        for batch_idx in range(num_batches):\n",
    "            batch_inputs = {k: v[batch_idx * batch_size : (batch_idx + 1) * batch_size].to(device)\n",
    "                            for k, v in inputs.items()}\n",
    "            outputs = model(**batch_inputs)\n",
    "            cls_embeddings = outputs['last_hidden_state'][:, 0, :]  \n",
    "            all_cls_embeddings.append(cls_embeddings.cpu()) \n",
    "            del batch_inputs, outputs, cls_embeddings\n",
    "            gc.collect() \n",
    "#             torch.cuda.empty_cache()  # Clear cache (optional if using GPU)\n",
    "    \n",
    "    all_cls_embeddings = torch.cat(all_cls_embeddings, dim=0)\n",
    "    \n",
    "    return all_cls_embeddings\n",
    "cls_embeddings = process_in_chunks(model, inputs, batch_size=32)\n",
    "print(cls_embeddings.shape)"
   ]
  },
  {
   "cell_type": "code",
   "execution_count": null,
   "metadata": {},
   "outputs": [],
   "source": [
    "train_embeddings_cls_np = cls_embeddings.detach().cpu().numpy()\n",
    "embedding_columns = [f\"cls_embedding_{i}\" for i in range(train_embeddings_cls_np.shape[1])]\n",
    "embeddings_df = pd.DataFrame(train_embeddings_cls_np, columns=embedding_columns)"
   ]
  },
  {
   "cell_type": "code",
   "execution_count": null,
   "metadata": {},
   "outputs": [],
   "source": [
    "from catboost import CatBoostRegressor"
   ]
  },
  {
   "cell_type": "code",
   "execution_count": null,
   "metadata": {},
   "outputs": [],
   "source": [
    "len(train_indices), len(val_indices)"
   ]
  },
  {
   "cell_type": "code",
   "execution_count": null,
   "metadata": {},
   "outputs": [],
   "source": [
    "df_train = pd.read_csv(\"/kaggle/input/train-data/behaviour_simulation_train_csv.csv\", encoding='ISO-8859-1')"
   ]
  },
  {
   "cell_type": "code",
   "execution_count": null,
   "metadata": {},
   "outputs": [],
   "source": [
    "df_train.head()"
   ]
  },
  {
   "cell_type": "code",
   "execution_count": null,
   "metadata": {},
   "outputs": [],
   "source": [
    "y_train, y_val = df_train.iloc[train_indices, 2], df_train.iloc[val_indices, 2]"
   ]
  },
  {
   "cell_type": "code",
   "execution_count": null,
   "metadata": {},
   "outputs": [],
   "source": [
    "train_data, test_data, y_t, y_v = train_test_split(embeddings_df, y_train, test_size=0.2, shuffle=True, random_state=42)"
   ]
  },
  {
   "cell_type": "code",
   "execution_count": null,
   "metadata": {},
   "outputs": [],
   "source": [
    "train_data.shape, y_t.shape"
   ]
  },
  {
   "cell_type": "code",
   "execution_count": null,
   "metadata": {},
   "outputs": [],
   "source": [
    "ctb=CatBoostRegressor(n_estimators = 1000,\n",
    "                        learning_rate = 0.01,\n",
    "                        l2_leaf_reg = 0.05,\n",
    "                        max_depth = 7,\n",
    "                        loss_function = 'RMSE',\n",
    "                        eval_metric = 'RMSE',\n",
    "                        task_type = 'GPU',\n",
    "                        random_seed = 42,\n",
    "                        verbose = 100,)\n",
    "\n",
    "ctb.fit(train_data, y_t, eval_set = (np.array(test_data), np.array(y_v)), verbose_eval = 100)"
   ]
  },
  {
   "cell_type": "code",
   "execution_count": null,
   "metadata": {},
   "outputs": [],
   "source": [
    "train_data.head()"
   ]
  },
  {
   "cell_type": "code",
   "execution_count": null,
   "metadata": {},
   "outputs": [],
   "source": [
    "class neural_net(nn.Module):\n",
    "    def __init__(self, input_size, output_size):\n",
    "        super(neural_net, self).__init__()\n",
    "        self.linear1 = nn.Linear(in_features = input_size, out_features = 256, bias = True)\n",
    "        self.bn1=nn.BatchNorm1d(256)\n",
    "        self.relu1 = nn.ReLU()\n",
    "        self.dr1=nn.Dropout1d()\n",
    "        self.linear2 = nn.Linear(in_features = 256, out_features = 128, bias = True)\n",
    "        self.bn2=nn.BatchNorm1d(128)\n",
    "        self.relu2 = nn.ReLU()\n",
    "        self.dr2=nn.Dropout1d()\n",
    "        self.linear3 = nn.Linear(in_features = 128, out_features = output_size, bias = True)\n",
    "    \n",
    "    def forward(self, x):\n",
    "#         out1 = \n",
    "#         out2 = \n",
    "        out3 = self.linear3(self.relu2(self.bn2(self.linear2(self.relu1(self.bn1(self.linear1(x)))))))\n",
    "        return out3\n",
    "nn_model = neural_net(input_size = 768, output_size = 1).to(device)"
   ]
  },
  {
   "cell_type": "code",
   "execution_count": null,
   "metadata": {},
   "outputs": [],
   "source": [
    "class nn_dataset(Dataset):\n",
    "    def __init__(self, X, y):\n",
    "        super().__init__()\n",
    "        self.x = X.reset_index(drop = True)\n",
    "        self.y = y.reset_index(drop = True)\n",
    "#         self.transform = transform\n",
    "#         self.train = train\n",
    "        \n",
    "    def __len__(self):\n",
    "        return len(self.x)\n",
    "    \n",
    "    def __getitem__(self, idx):\n",
    "        X = torch.tensor(self.x.iloc[idx])\n",
    "        y = torch.tensor(self.y.iloc[idx])\n",
    "            \n",
    "        return X, y"
   ]
  },
  {
   "cell_type": "code",
   "execution_count": null,
   "metadata": {},
   "outputs": [],
   "source": [
    "nn_train_data = nn_dataset(train_data, y_t)\n",
    "nn_val_data = nn_dataset(test_data, y_v)\n",
    "nn_train_dataloader = DataLoader(nn_train_data, batch_size = 32, shuffle = False, num_workers = os.cpu_count())\n",
    "nn_val_dataloader = DataLoader(nn_val_data, batch_size = 32, shuffle = False, num_workers = os.cpu_count())"
   ]
  },
  {
   "cell_type": "code",
   "execution_count": null,
   "metadata": {},
   "outputs": [],
   "source": [
    "class RMSELoss(nn.Module):\n",
    "    def __init__(self):\n",
    "        super().__init__()\n",
    "        self.mse = nn.MSELoss()\n",
    "        \n",
    "    def forward(self,yhat,y):\n",
    "        return torch.sqrt(self.mse(yhat,y))"
   ]
  },
  {
   "cell_type": "code",
   "execution_count": null,
   "metadata": {},
   "outputs": [],
   "source": [
    "optimizer_nn = torch.optim.SGD(params = nn_model.parameters(), lr = 1e-3)\n",
    "loss_fn = RMSELoss()\n",
    "for epoch in range(5):\n",
    "    nn_model.train()\n",
    "    net_loss = 0.0\n",
    "    for X, y in tqdm(nn_train_dataloader):\n",
    "        X = X.to(torch.float32).to(device)\n",
    "        y = y.to(torch.float32).to(device)\n",
    "        optimizer_nn.zero_grad()\n",
    "        y_pred = nn_model(X)\n",
    "        loss = loss_fn(y_pred, y)\n",
    "        net_loss += (loss.item()) / len(nn_train_dataloader)\n",
    "        loss.backward()\n",
    "        optimizer_nn.step()\n",
    "        del X,y\n",
    "    print(f\"epoch {epoch+1} | Train Loss: {net_loss}\")\n",
    "\n",
    "    nn_model.eval()\n",
    "    net_loss_val = 0.0\n",
    "    with torch.inference_mode():\n",
    "        for X, y in tqdm(nn_val_dataloader):\n",
    "            X = X.to(torch.float32).to(device)\n",
    "            y = y.to(torch.float32).to(device)\n",
    "            y_val_pred = nn_model(X)\n",
    "            val_loss = loss_fn(y_val_pred, y)\n",
    "            net_loss_val += (val_loss.item()) / len(nn_val_dataloader)\n",
    "            del X,y\n",
    "        print(f\"epoch {epoch+1} | Val Loss: {net_loss_val}\")"
   ]
  },
  {
   "cell_type": "code",
   "execution_count": null,
   "metadata": {},
   "outputs": [],
   "source": []
  }
 ],
 "metadata": {
  "kaggle": {
   "accelerator": "gpu",
   "dataSources": [
    {
     "datasetId": 5826705,
     "sourceId": 9561437,
     "sourceType": "datasetVersion"
    },
    {
     "datasetId": 5827251,
     "sourceId": 9562160,
     "sourceType": "datasetVersion"
    },
    {
     "datasetId": 5834819,
     "sourceId": 9572263,
     "sourceType": "datasetVersion"
    },
    {
     "datasetId": 5835110,
     "sourceId": 9572649,
     "sourceType": "datasetVersion"
    },
    {
     "datasetId": 5881533,
     "sourceId": 9633528,
     "sourceType": "datasetVersion"
    }
   ],
   "dockerImageVersionId": 30787,
   "isGpuEnabled": true,
   "isInternetEnabled": true,
   "language": "python",
   "sourceType": "notebook"
  },
  "kernelspec": {
   "display_name": "Python 3 (ipykernel)",
   "language": "python",
   "name": "python3"
  },
  "language_info": {
   "codemirror_mode": {
    "name": "ipython",
    "version": 3
   },
   "file_extension": ".py",
   "mimetype": "text/x-python",
   "name": "python",
   "nbconvert_exporter": "python",
   "pygments_lexer": "ipython3",
   "version": "3.11.5"
  }
 },
 "nbformat": 4,
 "nbformat_minor": 4
}
